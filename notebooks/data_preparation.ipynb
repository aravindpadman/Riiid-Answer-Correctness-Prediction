{
 "cells": [
  {
   "cell_type": "code",
   "execution_count": 1,
   "metadata": {},
   "outputs": [],
   "source": [
    "import pandas as pd\n",
    "import numpy as np\n",
    "\n",
    "import  sklearn\n",
    "\n",
    "from sklearn.preprocessing import LabelEncoder\n",
    "\n",
    "import optuna \n",
    "\n",
    "import xgboost as xgb\n",
    "\n",
    "import matplotlib.pyplot as plt\n",
    "import seaborn as sns\n",
    "\n",
    "import warnings\n",
    "\n",
    "import dask.array as da\n",
    "import dask.distributed"
   ]
  },
  {
   "cell_type": "code",
   "execution_count": 2,
   "metadata": {},
   "outputs": [],
   "source": [
    "cluster = dask.distributed.LocalCluster(n_workers=8, threads_per_worker=1)\n",
    "client = dask.distributed.Client(cluster)"
   ]
  },
  {
   "cell_type": "code",
   "execution_count": 4,
   "metadata": {},
   "outputs": [
    {
     "output_type": "execute_result",
     "data": {
      "text/plain": [
       "<Client: 'tcp://127.0.0.1:41335' processes=8 threads=8, memory=67.45 GB>"
      ],
      "text/html": "<table style=\"border: 2px solid white;\">\n<tr>\n<td style=\"vertical-align: top; border: 0px solid white\">\n<h3 style=\"text-align: left;\">Client</h3>\n<ul style=\"text-align: left; list-style: none; margin: 0; padding: 0;\">\n  <li><b>Scheduler: </b>tcp://127.0.0.1:41335</li>\n  <li><b>Dashboard: </b><a href='http://127.0.0.1:44373/status' target='_blank'>http://127.0.0.1:44373/status</a></li>\n</ul>\n</td>\n<td style=\"vertical-align: top; border: 0px solid white\">\n<h3 style=\"text-align: left;\">Cluster</h3>\n<ul style=\"text-align: left; list-style:none; margin: 0; padding: 0;\">\n  <li><b>Workers: </b>8</li>\n  <li><b>Cores: </b>8</li>\n  <li><b>Memory: </b>67.45 GB</li>\n</ul>\n</td>\n</tr>\n</table>"
     },
     "metadata": {},
     "execution_count": 4
    }
   ],
   "source": [
    "client"
   ]
  },
  {
   "cell_type": "code",
   "execution_count": 11,
   "metadata": {},
   "outputs": [],
   "source": [
    "train = pd.read_csv(\"~/kaggledatasets/riiid-test-answer-prediction/train.csv\", \n",
    "                        # nrows=5e6, \n",
    "                        dtype={'row_id': 'int64', \n",
    "                        'timestamp': 'int64', \n",
    "                        'user_id': 'int32', \n",
    "                        'content_id': 'int16', \n",
    "                        'content_type_id': 'int8',\n",
    "                        'task_container_id': 'int16', \n",
    "                        'user_answer': 'int8', \n",
    "                        'answered_correctly': 'int8', \n",
    "                        'prior_question_elapsed_time': 'float32', \n",
    "                        'prior_question_had_explanation': 'boolean'},\n",
    "                        )\n",
    "\n",
    "questions = pd.read_csv(\"~/kaggledatasets/riiid-test-answer-prediction/questions.csv\")\n",
    "lectures = pd.read_csv(\"~/kaggledatasets/riiid-test-answer-prediction/lectures.csv\")"
   ]
  },
  {
   "cell_type": "code",
   "execution_count": 12,
   "metadata": {},
   "outputs": [],
   "source": [
    "def split_train_validation():\n",
    "    global train\n",
    "    validation = train.groupby(\"user_id\").tail(20)\n",
    "    train = train[~train.index.isin(validation.index)]\n",
    "    print(f\"valaidation data percentage={round((validation.shape[0]*100)/train.shape[0], 2)}\")\n",
    "    return train, validation\n",
    "\n",
    "\n",
    "def feature_engineering_utils(m_content_id, m_task_container_id):\n",
    "    te_content_id = calc_smooth_mean(by=\"content_id\", on=\"answered_correctly\", m=m_content_id)\n",
    "    te_task_container_id = calc_smooth_mean(by=\"task_container_id\", \n",
    "                                                      on=\"answered_correctly\", \n",
    "                                                      m=m_task_container_id\n",
    "                                                     )\n",
    "    te_content_id.name = \"te_content_id\"\n",
    "    te_task_container_id.name = \"te_task_container_id\"\n",
    "    elapsed_mean = train.prior_question_elapsed_time.mean()\n",
    "    return te_content_id, te_task_container_id, elapsed_mean\n",
    "        \n",
    "        \n",
    "def calc_smooth_mean(by, on, m, name):\n",
    "    global train\n",
    "    # Compute the global mean\n",
    "    mean = train[on].mean()\n",
    "    # Compute the number of values and the mean of each group\n",
    "    agg = train.groupby(by)[on].agg(['count', 'mean'])\n",
    "    counts = agg['count']\n",
    "    means = agg['mean']\n",
    "    # Compute the \"smoothed\" means\n",
    "    smooth = (counts * means + m * mean) / (counts + m)\n",
    "    smooth.name = name\n",
    "    return smooth\n",
    "    \n",
    "def get_train_data(data, te_content_id, te_task_container_id):\n",
    "    data = pd.merge(data, te_content_id, left_on = 'content_id', right_index=True, how='left')\n",
    "    data = pd.merge(data, te_task_container_id, left_on = 'task_container_id', right_index=True, how='left')\n",
    "    data.te_content_id.fillna(te_content_id.mean(), inplace=True)\n",
    "    data.te_task_container_id.fillna(te_task_container_id.mean(), inplace=True)\n",
    "    return data\n",
    "\n",
    "\n",
    "    \n",
    "class DataPipeline:\n",
    "    def __init__(self, train, validation):\n",
    "        # self.data = data\n",
    "        self.train = train\n",
    "        self.validation = validation        \n",
    "        self.elapsed_mean = self.train.prior_question_elapsed_time.mean()\n",
    "        self.train = self.clean_impute(self.train)\n",
    "        self.validation = self.clean_impute(self.validation)\n",
    "        self.is_state_reset = False\n",
    "        self.usefull_columns = ['user_id',\n",
    "                                'timestamp',\n",
    "                               'content_id',\n",
    "                               'task_container_id',\n",
    "                               'prior_question_elapsed_time',\n",
    "                               'prior_question_had_explanation',\n",
    "                                \"answered_correctly\",\n",
    "                               ]\n",
    "                                    \n",
    "    \n",
    "    \n",
    "    def clean_impute(self, data):\n",
    "        data = data[data.content_type_id == 0]\n",
    "        data.prior_question_elapsed_time.fillna(self.elapsed_mean, inplace=True)\n",
    "        data.prior_question_had_explanation.fillna(False, inplace=True)\n",
    "        data.prior_question_had_explanation = data.prior_question_had_explanation.astype(int)\n",
    "        return data\n",
    "\n",
    "\n",
    "def get_preprocessed_train_val():\n",
    "    train, validation = split_train_validation()\n",
    "    dp = DataPipeline(train, validation)\n",
    "    train, validation = dp.clean_impute(train), dp.clean_impute(validation)\n",
    "    return train, validation\n",
    "\n"
   ]
  },
  {
   "cell_type": "code",
   "execution_count": 13,
   "metadata": {},
   "outputs": [
    {
     "output_type": "stream",
     "name": "stdout",
     "text": [
      "valaidation data percentage=8.12\n"
     ]
    }
   ],
   "source": [
    "train, validation = get_preprocessed_train_val()"
   ]
  },
  {
   "cell_type": "code",
   "execution_count": 14,
   "metadata": {},
   "outputs": [
    {
     "output_type": "execute_result",
     "data": {
      "text/plain": [
       "332654"
      ]
     },
     "metadata": {},
     "execution_count": 14
    }
   ],
   "source": [
    "train.user_id.nunique()"
   ]
  },
  {
   "cell_type": "code",
   "execution_count": 15,
   "metadata": {},
   "outputs": [
    {
     "output_type": "execute_result",
     "data": {
      "text/plain": [
       "393644"
      ]
     },
     "metadata": {},
     "execution_count": 15
    }
   ],
   "source": [
    "validation.user_id.nunique()"
   ]
  },
  {
   "cell_type": "code",
   "execution_count": 16,
   "metadata": {},
   "outputs": [
    {
     "output_type": "execute_result",
     "data": {
      "text/plain": [
       "   row_id  timestamp  user_id  content_id  content_type_id  task_container_id  \\\n",
       "0       0          0      115        5692                0                  1   \n",
       "1       1      56943      115        5716                0                  2   \n",
       "2       2     118363      115         128                0                  0   \n",
       "3       3     131167      115        7860                0                  3   \n",
       "4       4     137965      115        7922                0                  4   \n",
       "\n",
       "   user_answer  answered_correctly  prior_question_elapsed_time  \\\n",
       "0            3                   1                 13741.267578   \n",
       "1            2                   1                 37000.000000   \n",
       "2            0                   1                 55000.000000   \n",
       "3            0                   1                 19000.000000   \n",
       "4            1                   1                 11000.000000   \n",
       "\n",
       "   prior_question_had_explanation  \n",
       "0                               0  \n",
       "1                               0  \n",
       "2                               0  \n",
       "3                               0  \n",
       "4                               0  "
      ],
      "text/html": "<div>\n<style scoped>\n    .dataframe tbody tr th:only-of-type {\n        vertical-align: middle;\n    }\n\n    .dataframe tbody tr th {\n        vertical-align: top;\n    }\n\n    .dataframe thead th {\n        text-align: right;\n    }\n</style>\n<table border=\"1\" class=\"dataframe\">\n  <thead>\n    <tr style=\"text-align: right;\">\n      <th></th>\n      <th>row_id</th>\n      <th>timestamp</th>\n      <th>user_id</th>\n      <th>content_id</th>\n      <th>content_type_id</th>\n      <th>task_container_id</th>\n      <th>user_answer</th>\n      <th>answered_correctly</th>\n      <th>prior_question_elapsed_time</th>\n      <th>prior_question_had_explanation</th>\n    </tr>\n  </thead>\n  <tbody>\n    <tr>\n      <th>0</th>\n      <td>0</td>\n      <td>0</td>\n      <td>115</td>\n      <td>5692</td>\n      <td>0</td>\n      <td>1</td>\n      <td>3</td>\n      <td>1</td>\n      <td>13741.267578</td>\n      <td>0</td>\n    </tr>\n    <tr>\n      <th>1</th>\n      <td>1</td>\n      <td>56943</td>\n      <td>115</td>\n      <td>5716</td>\n      <td>0</td>\n      <td>2</td>\n      <td>2</td>\n      <td>1</td>\n      <td>37000.000000</td>\n      <td>0</td>\n    </tr>\n    <tr>\n      <th>2</th>\n      <td>2</td>\n      <td>118363</td>\n      <td>115</td>\n      <td>128</td>\n      <td>0</td>\n      <td>0</td>\n      <td>0</td>\n      <td>1</td>\n      <td>55000.000000</td>\n      <td>0</td>\n    </tr>\n    <tr>\n      <th>3</th>\n      <td>3</td>\n      <td>131167</td>\n      <td>115</td>\n      <td>7860</td>\n      <td>0</td>\n      <td>3</td>\n      <td>0</td>\n      <td>1</td>\n      <td>19000.000000</td>\n      <td>0</td>\n    </tr>\n    <tr>\n      <th>4</th>\n      <td>4</td>\n      <td>137965</td>\n      <td>115</td>\n      <td>7922</td>\n      <td>0</td>\n      <td>4</td>\n      <td>1</td>\n      <td>1</td>\n      <td>11000.000000</td>\n      <td>0</td>\n    </tr>\n  </tbody>\n</table>\n</div>"
     },
     "metadata": {},
     "execution_count": 16
    }
   ],
   "source": [
    "train.head()"
   ]
  },
  {
   "cell_type": "code",
   "execution_count": 17,
   "metadata": {},
   "outputs": [
    {
     "output_type": "execute_result",
     "data": {
      "text/plain": [
       "   question_id  bundle_id  correct_answer  part            tags\n",
       "0            0          0               0     1   51 131 162 38\n",
       "1            1          1               1     1       131 36 81\n",
       "2            2          2               0     1  131 101 162 92\n",
       "3            3          3               0     1  131 149 162 29\n",
       "4            4          4               3     1    131 5 162 38"
      ],
      "text/html": "<div>\n<style scoped>\n    .dataframe tbody tr th:only-of-type {\n        vertical-align: middle;\n    }\n\n    .dataframe tbody tr th {\n        vertical-align: top;\n    }\n\n    .dataframe thead th {\n        text-align: right;\n    }\n</style>\n<table border=\"1\" class=\"dataframe\">\n  <thead>\n    <tr style=\"text-align: right;\">\n      <th></th>\n      <th>question_id</th>\n      <th>bundle_id</th>\n      <th>correct_answer</th>\n      <th>part</th>\n      <th>tags</th>\n    </tr>\n  </thead>\n  <tbody>\n    <tr>\n      <th>0</th>\n      <td>0</td>\n      <td>0</td>\n      <td>0</td>\n      <td>1</td>\n      <td>51 131 162 38</td>\n    </tr>\n    <tr>\n      <th>1</th>\n      <td>1</td>\n      <td>1</td>\n      <td>1</td>\n      <td>1</td>\n      <td>131 36 81</td>\n    </tr>\n    <tr>\n      <th>2</th>\n      <td>2</td>\n      <td>2</td>\n      <td>0</td>\n      <td>1</td>\n      <td>131 101 162 92</td>\n    </tr>\n    <tr>\n      <th>3</th>\n      <td>3</td>\n      <td>3</td>\n      <td>0</td>\n      <td>1</td>\n      <td>131 149 162 29</td>\n    </tr>\n    <tr>\n      <th>4</th>\n      <td>4</td>\n      <td>4</td>\n      <td>3</td>\n      <td>1</td>\n      <td>131 5 162 38</td>\n    </tr>\n  </tbody>\n</table>\n</div>"
     },
     "metadata": {},
     "execution_count": 17
    }
   ],
   "source": [
    "questions.head()"
   ]
  },
  {
   "cell_type": "code",
   "execution_count": 18,
   "metadata": {},
   "outputs": [
    {
     "output_type": "execute_result",
     "data": {
      "text/plain": [
       "   lecture_id  tag  part           type_of\n",
       "0          89  159     5           concept\n",
       "1         100   70     1           concept\n",
       "2         185   45     6           concept\n",
       "3         192   79     5  solving question\n",
       "4         317  156     5  solving question"
      ],
      "text/html": "<div>\n<style scoped>\n    .dataframe tbody tr th:only-of-type {\n        vertical-align: middle;\n    }\n\n    .dataframe tbody tr th {\n        vertical-align: top;\n    }\n\n    .dataframe thead th {\n        text-align: right;\n    }\n</style>\n<table border=\"1\" class=\"dataframe\">\n  <thead>\n    <tr style=\"text-align: right;\">\n      <th></th>\n      <th>lecture_id</th>\n      <th>tag</th>\n      <th>part</th>\n      <th>type_of</th>\n    </tr>\n  </thead>\n  <tbody>\n    <tr>\n      <th>0</th>\n      <td>89</td>\n      <td>159</td>\n      <td>5</td>\n      <td>concept</td>\n    </tr>\n    <tr>\n      <th>1</th>\n      <td>100</td>\n      <td>70</td>\n      <td>1</td>\n      <td>concept</td>\n    </tr>\n    <tr>\n      <th>2</th>\n      <td>185</td>\n      <td>45</td>\n      <td>6</td>\n      <td>concept</td>\n    </tr>\n    <tr>\n      <th>3</th>\n      <td>192</td>\n      <td>79</td>\n      <td>5</td>\n      <td>solving question</td>\n    </tr>\n    <tr>\n      <th>4</th>\n      <td>317</td>\n      <td>156</td>\n      <td>5</td>\n      <td>solving question</td>\n    </tr>\n  </tbody>\n</table>\n</div>"
     },
     "metadata": {},
     "execution_count": 18
    }
   ],
   "source": [
    "lectures.head()"
   ]
  },
  {
   "source": [
    "### Feature Engineering\n",
    "* Remove the lecturres\n",
    "* Include question features"
   ],
   "cell_type": "markdown",
   "metadata": {}
  },
  {
   "cell_type": "code",
   "execution_count": 44,
   "metadata": {},
   "outputs": [],
   "source": [
    "from sklearn.preprocessing import LabelEncoder\n",
    "\n",
    "questions['tags'] = LabelEncoder().fit_transform(questions.tags.astype(str))\n"
   ]
  },
  {
   "cell_type": "code",
   "execution_count": 50,
   "metadata": {},
   "outputs": [],
   "source": [
    "train = pd.merge(train, questions[['question_id', 'bundle_id', 'part', 'tags']], left_on=['content_id'], right_on=['question_id'], how='left')"
   ]
  },
  {
   "cell_type": "code",
   "execution_count": 51,
   "metadata": {},
   "outputs": [],
   "source": [
    "validation = pd.merge(validation, questions[['question_id', 'bundle_id', 'part', 'tags']], left_on=['content_id'], right_on=['question_id'], how='left')"
   ]
  },
  {
   "cell_type": "code",
   "execution_count": 54,
   "metadata": {},
   "outputs": [
    {
     "output_type": "execute_result",
     "data": {
      "text/plain": [
       "   row_id  timestamp  user_id  content_id  content_type_id  task_container_id  \\\n",
       "0      26     621464      115           6                0                 26   \n",
       "1      27     645415      115         172                0                 27   \n",
       "2      28     670520      115        7898                0                 28   \n",
       "3      29     692971      115         175                0                 29   \n",
       "4      30     710402      115         100                0                 30   \n",
       "\n",
       "   user_answer  answered_correctly  prior_question_elapsed_time  \\\n",
       "0            2                   1                      20000.0   \n",
       "1            1                   1                      22000.0   \n",
       "2            2                   1                      22000.0   \n",
       "3            0                   0                      23000.0   \n",
       "4            0                   1                      20000.0   \n",
       "\n",
       "   prior_question_had_explanation  question_id  bundle_id  part  tags  \n",
       "0                               0            6          6     1    26  \n",
       "1                               0          172        172     1     9  \n",
       "2                               0         7898       7898     1   337  \n",
       "3                               0          175        175     1  1376  \n",
       "4                               0          100        100     1   322  "
      ],
      "text/html": "<div>\n<style scoped>\n    .dataframe tbody tr th:only-of-type {\n        vertical-align: middle;\n    }\n\n    .dataframe tbody tr th {\n        vertical-align: top;\n    }\n\n    .dataframe thead th {\n        text-align: right;\n    }\n</style>\n<table border=\"1\" class=\"dataframe\">\n  <thead>\n    <tr style=\"text-align: right;\">\n      <th></th>\n      <th>row_id</th>\n      <th>timestamp</th>\n      <th>user_id</th>\n      <th>content_id</th>\n      <th>content_type_id</th>\n      <th>task_container_id</th>\n      <th>user_answer</th>\n      <th>answered_correctly</th>\n      <th>prior_question_elapsed_time</th>\n      <th>prior_question_had_explanation</th>\n      <th>question_id</th>\n      <th>bundle_id</th>\n      <th>part</th>\n      <th>tags</th>\n    </tr>\n  </thead>\n  <tbody>\n    <tr>\n      <th>0</th>\n      <td>26</td>\n      <td>621464</td>\n      <td>115</td>\n      <td>6</td>\n      <td>0</td>\n      <td>26</td>\n      <td>2</td>\n      <td>1</td>\n      <td>20000.0</td>\n      <td>0</td>\n      <td>6</td>\n      <td>6</td>\n      <td>1</td>\n      <td>26</td>\n    </tr>\n    <tr>\n      <th>1</th>\n      <td>27</td>\n      <td>645415</td>\n      <td>115</td>\n      <td>172</td>\n      <td>0</td>\n      <td>27</td>\n      <td>1</td>\n      <td>1</td>\n      <td>22000.0</td>\n      <td>0</td>\n      <td>172</td>\n      <td>172</td>\n      <td>1</td>\n      <td>9</td>\n    </tr>\n    <tr>\n      <th>2</th>\n      <td>28</td>\n      <td>670520</td>\n      <td>115</td>\n      <td>7898</td>\n      <td>0</td>\n      <td>28</td>\n      <td>2</td>\n      <td>1</td>\n      <td>22000.0</td>\n      <td>0</td>\n      <td>7898</td>\n      <td>7898</td>\n      <td>1</td>\n      <td>337</td>\n    </tr>\n    <tr>\n      <th>3</th>\n      <td>29</td>\n      <td>692971</td>\n      <td>115</td>\n      <td>175</td>\n      <td>0</td>\n      <td>29</td>\n      <td>0</td>\n      <td>0</td>\n      <td>23000.0</td>\n      <td>0</td>\n      <td>175</td>\n      <td>175</td>\n      <td>1</td>\n      <td>1376</td>\n    </tr>\n    <tr>\n      <th>4</th>\n      <td>30</td>\n      <td>710402</td>\n      <td>115</td>\n      <td>100</td>\n      <td>0</td>\n      <td>30</td>\n      <td>0</td>\n      <td>1</td>\n      <td>20000.0</td>\n      <td>0</td>\n      <td>100</td>\n      <td>100</td>\n      <td>1</td>\n      <td>322</td>\n    </tr>\n  </tbody>\n</table>\n</div>"
     },
     "metadata": {},
     "execution_count": 54
    }
   ],
   "source": [
    "validation.head()"
   ]
  },
  {
   "cell_type": "code",
   "execution_count": 55,
   "metadata": {},
   "outputs": [
    {
     "output_type": "execute_result",
     "data": {
      "text/plain": [
       "'/home/aravind/Riiid-Answer-Correctness-Prediction/notebooks'"
      ]
     },
     "metadata": {},
     "execution_count": 55
    }
   ],
   "source": [
    "pwd"
   ]
  },
  {
   "cell_type": "code",
   "execution_count": 56,
   "metadata": {},
   "outputs": [],
   "source": [
    "import os\n",
    "\n",
    "if not os.path.isdir(\"../data\"):\n",
    "    os.mkdir(\"../data\")"
   ]
  },
  {
   "cell_type": "code",
   "execution_count": 58,
   "metadata": {},
   "outputs": [],
   "source": [
    "useful_columns = ['row_id', 'timestamp', 'user_id', 'content_id', 'content_type_id',\n",
    "       'task_container_id', 'answered_correctly',\n",
    "       'prior_question_elapsed_time', 'prior_question_had_explanation',\n",
    "       'bundle_id', 'part', 'tags']"
   ]
  },
  {
   "cell_type": "code",
   "execution_count": 61,
   "metadata": {},
   "outputs": [],
   "source": [
    "train[useful_columns].reset_index(drop=True).to_feather(f'train.feather')\n",
    "validation[useful_columns].reset_index(drop=True).to_feather(f'test.feather')\n"
   ]
  },
  {
   "cell_type": "code",
   "execution_count": 65,
   "metadata": {},
   "outputs": [],
   "source": [
    "tmp = pd.read_feather('../data/train.feather')"
   ]
  },
  {
   "cell_type": "code",
   "execution_count": 69,
   "metadata": {},
   "outputs": [
    {
     "output_type": "execute_result",
     "data": {
      "text/plain": [
       "21111"
      ]
     },
     "metadata": {},
     "execution_count": 69
    }
   ],
   "source": [
    "import gc\n",
    "del tmp\n",
    "gc.collect()"
   ]
  },
  {
   "cell_type": "code",
   "execution_count": 70,
   "metadata": {},
   "outputs": [],
   "source": [
    "import dask.dataframe as dd\n",
    "\n",
    "train[useful_columns].reset_index(drop=True).to_parquet('../data/train.parquet.gzip', compression='gzip')\n",
    "validation[useful_columns].reset_index(drop=True).to_parquet('../data/validation.parquet.gzip', compression='gzip')"
   ]
  },
  {
   "cell_type": "code",
   "execution_count": 75,
   "metadata": {},
   "outputs": [],
   "source": [
    "cluster = dask.distributed.LocalCluster(n_workers=4, threads_per_worker=1)\n",
    "client = dask.distributed.Client(cluster)"
   ]
  },
  {
   "cell_type": "code",
   "execution_count": 76,
   "metadata": {},
   "outputs": [
    {
     "output_type": "execute_result",
     "data": {
      "text/plain": [
       "<Client: 'tcp://127.0.0.1:43959' processes=4 threads=4, memory=67.45 GB>"
      ],
      "text/html": "<table style=\"border: 2px solid white;\">\n<tr>\n<td style=\"vertical-align: top; border: 0px solid white\">\n<h3 style=\"text-align: left;\">Client</h3>\n<ul style=\"text-align: left; list-style: none; margin: 0; padding: 0;\">\n  <li><b>Scheduler: </b>tcp://127.0.0.1:43959</li>\n  <li><b>Dashboard: </b><a href='http://127.0.0.1:43019/status' target='_blank'>http://127.0.0.1:43019/status</a></li>\n</ul>\n</td>\n<td style=\"vertical-align: top; border: 0px solid white\">\n<h3 style=\"text-align: left;\">Cluster</h3>\n<ul style=\"text-align: left; list-style:none; margin: 0; padding: 0;\">\n  <li><b>Workers: </b>4</li>\n  <li><b>Cores: </b>4</li>\n  <li><b>Memory: </b>67.45 GB</li>\n</ul>\n</td>\n</tr>\n</table>"
     },
     "metadata": {},
     "execution_count": 76
    }
   ],
   "source": [
    "client"
   ]
  },
  {
   "cell_type": "code",
   "execution_count": 83,
   "metadata": {},
   "outputs": [],
   "source": [
    "def objective(trial):\n",
    "\n",
    "    m_content_id = trial.suggest_loguniform(\"m_content_id\", 1, 1000)\n",
    "    m_task_container_id = trial.suggest_loguniform(\"m_task_container_id\", 1, 1000)\n",
    "    global train\n",
    "    global validation\n",
    "    \n",
    "    train_proccd = dd.from_pandas(train, npartitions=16)\n",
    "    train_x = train_proccd.drop(\"answered_correctly\", axis=1)\n",
    "    train_y = train_proccd[\"answered_correctly\"]\n",
    "    del train_proccd\n",
    "        \n",
    "    val_proccd = dd.from_pandas(validation)\n",
    "    test_x = val_proccd.drop(\"answered_correctly\", axis=1)\n",
    "    test_y = val_proccd[\"answered_correctly\"]\n",
    "    del val_proccd\n",
    "    \n",
    "    dtrain = xgb.dask.DaskDMatrix(client, train_x, train_y)\n",
    "    dtest = xgb.DMatrix(test_x, test_y)\n",
    "    del train_x, test_x\n",
    "    gc.collect()\n",
    "    \n",
    "    param = {\n",
    "        \"objective\": \"binary:logistic\",\n",
    "        \"eval_metric\": \"auc\",\n",
    "        'gpu_id': 0,\n",
    "        'tree_method': 'gpu_hist',\n",
    "        \"booster\": trial.suggest_categorical(\"booster\", [\"gbtree\", \"gblinear\", \"dart\"]),\n",
    "        \"lambda\": trial.suggest_loguniform(\"lambda\", 1e-8, 1.0),\n",
    "        \"alpha\": trial.suggest_loguniform(\"alpha\", 1e-8, 1.0),\n",
    "    }\n",
    "\n",
    "    if param[\"booster\"] == \"gbtree\" or param[\"booster\"] == \"dart\":\n",
    "        param[\"max_depth\"] = trial.suggest_int(\"max_depth\", 1, 20)\n",
    "        param[\"eta\"] = trial.suggest_loguniform(\"eta\", 1e-8, 1.0)\n",
    "        param[\"gamma\"] = trial.suggest_loguniform(\"gamma\", 1e-8, 1.0)\n",
    "        param[\"grow_policy\"] = trial.suggest_categorical(\"grow_policy\", [\"depthwise\", \"lossguide\"])\n",
    "    if param[\"booster\"] == \"dart\":\n",
    "        param[\"sample_type\"] = trial.suggest_categorical(\"sample_type\", [\"uniform\", \"weighted\"])\n",
    "        param[\"normalize_type\"] = trial.suggest_categorical(\"normalize_type\", [\"tree\", \"forest\"])\n",
    "        param[\"rate_drop\"] = trial.suggest_loguniform(\"rate_drop\", 1e-8, 1.0)\n",
    "        param[\"skip_drop\"] = trial.suggest_loguniform(\"skip_drop\", 1e-8, 1.0)\n",
    "\n",
    "    # Add a callback for pruning.\n",
    "    # pruning_callback = optuna.integration.XGBoostPruningCallback(trial, \"validation-auc\")\n",
    "    bst = xgb.train(param, dtrain, evals=[(dtest, \"validation\")], \n",
    "                    # callbacks=[pruning_callback],\n",
    "                    )\n",
    "    preds = bst.dask.predict(dtest)\n",
    "    auc = sklearn.metrics.roc_auc_score(test_y, preds)\n",
    "    return auc"
   ]
  },
  {
   "cell_type": "code",
   "execution_count": 84,
   "metadata": {},
   "outputs": [
    {
     "output_type": "stream",
     "name": "stderr",
     "text": [
      "\u001b[32m[I 2020-11-20 11:17:53,482]\u001b[0m A new study created in memory with name: no-name-ace4738e-6c00-4bf9-8f37-c0db4a79cbfd\u001b[0m\n"
     ]
    }
   ],
   "source": [
    "study = optuna.create_study(direction=\"maximize\")\n",
    "study.optimize(objective, n_trials=2)"
   ]
  },
  {
   "cell_type": "code",
   "execution_count": null,
   "metadata": {},
   "outputs": [],
   "source": []
  }
 ],
 "metadata": {
  "kernelspec": {
   "display_name": "Python 3",
   "language": "python",
   "name": "python3"
  },
  "language_info": {
   "codemirror_mode": {
    "name": "ipython",
    "version": 3
   },
   "file_extension": ".py",
   "mimetype": "text/x-python",
   "name": "python",
   "nbconvert_exporter": "python",
   "pygments_lexer": "ipython3",
   "version": "3.7.8-final"
  }
 },
 "nbformat": 4,
 "nbformat_minor": 4
}